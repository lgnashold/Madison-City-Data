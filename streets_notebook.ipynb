{
 "cells": [
  {
   "cell_type": "code",
   "execution_count": 1,
   "metadata": {},
   "outputs": [
    {
     "name": "stdout",
     "output_type": "stream",
     "text": [
      "352419540.5\n"
     ]
    }
   ],
   "source": [
    "import pandas as pd\n",
    "from pandas import Series, DataFrame\n",
    "import matplotlib\n",
    "matplotlib.rcParams.update({'font.size':15})\n",
    "matplotlib.rcParams.update({'figure.figsize': [6, 6]})\n",
    "%matplotlib inline\n",
    "\n",
    "all_data = pd.read_csv('s19-city/data/spend.csv');\n",
    "print(all_data[\"2018\"].abs().sum())\n",
    "streets_dataset = all_data[all_data[\"Agency\"].str.startswith(\"44\")]\n",
    "\n",
    "#print(streets_dataset);\n",
    "#print(f\"Number of data points: {len(city_data)}\")"
   ]
  },
  {
   "cell_type": "code",
   "execution_count": 2,
   "metadata": {
    "scrolled": false
   },
   "outputs": [
    {
     "ename": "NameError",
     "evalue": "name 'charges_tot_abs' is not defined",
     "output_type": "error",
     "traceback": [
      "\u001b[0;31m---------------------------------------------------------------------------\u001b[0m",
      "\u001b[0;31mNameError\u001b[0m                                 Traceback (most recent call last)",
      "\u001b[0;32m<ipython-input-2-1896528faf89>\u001b[0m in \u001b[0;36m<module>\u001b[0;34m\u001b[0m\n\u001b[1;32m      5\u001b[0m \u001b[0mcharges_tot\u001b[0m \u001b[0;34m=\u001b[0m \u001b[0mint_charges\u001b[0m\u001b[0;34m[\u001b[0m\u001b[0;34m\"2018\"\u001b[0m\u001b[0;34m]\u001b[0m\u001b[0;34m.\u001b[0m\u001b[0msum\u001b[0m\u001b[0;34m(\u001b[0m\u001b[0;34m)\u001b[0m\u001b[0;34m\u001b[0m\u001b[0;34m\u001b[0m\u001b[0m\n\u001b[1;32m      6\u001b[0m \u001b[0mcharges_tot\u001b[0m \u001b[0;34m=\u001b[0m \u001b[0mint_charges\u001b[0m\u001b[0;34m[\u001b[0m\u001b[0;34m\"2018\"\u001b[0m\u001b[0;34m]\u001b[0m\u001b[0;34m.\u001b[0m\u001b[0mabs\u001b[0m\u001b[0;34m(\u001b[0m\u001b[0;34m)\u001b[0m\u001b[0;34m.\u001b[0m\u001b[0msum\u001b[0m\u001b[0;34m(\u001b[0m\u001b[0;34m)\u001b[0m\u001b[0;34m\u001b[0m\u001b[0;34m\u001b[0m\u001b[0m\n\u001b[0;32m----> 7\u001b[0;31m \u001b[0mprint\u001b[0m\u001b[0;34m(\u001b[0m\u001b[0;34m\"Net charges: \"\u001b[0m \u001b[0;34m+\u001b[0m \u001b[0mstr\u001b[0m\u001b[0;34m(\u001b[0m\u001b[0mcharges_tot\u001b[0m\u001b[0;34m)\u001b[0m \u001b[0;34m+\u001b[0m \u001b[0;34m\" Total charges: \"\u001b[0m \u001b[0;34m+\u001b[0m  \u001b[0mstr\u001b[0m\u001b[0;34m(\u001b[0m\u001b[0mcharges_tot_abs\u001b[0m\u001b[0;34m)\u001b[0m\u001b[0;34m)\u001b[0m\u001b[0;34m\u001b[0m\u001b[0;34m\u001b[0m\u001b[0m\n\u001b[0m\u001b[1;32m      8\u001b[0m \u001b[0mbilling_tot\u001b[0m \u001b[0;34m=\u001b[0m \u001b[0mint_billing\u001b[0m\u001b[0;34m[\u001b[0m\u001b[0;34m\"2018\"\u001b[0m\u001b[0;34m]\u001b[0m\u001b[0;34m.\u001b[0m\u001b[0mabs\u001b[0m\u001b[0;34m(\u001b[0m\u001b[0;34m)\u001b[0m\u001b[0;34m.\u001b[0m\u001b[0msum\u001b[0m\u001b[0;34m(\u001b[0m\u001b[0;34m)\u001b[0m\u001b[0;34m\u001b[0m\u001b[0;34m\u001b[0m\u001b[0m\n\u001b[1;32m      9\u001b[0m \u001b[0mprint\u001b[0m\u001b[0;34m(\u001b[0m\u001b[0mint_billing\u001b[0m\u001b[0;34m[\u001b[0m\u001b[0;34m\"2018\"\u001b[0m\u001b[0;34m]\u001b[0m\u001b[0;34m.\u001b[0m\u001b[0mabs\u001b[0m\u001b[0;34m(\u001b[0m\u001b[0;34m)\u001b[0m\u001b[0;34m.\u001b[0m\u001b[0msum\u001b[0m\u001b[0;34m(\u001b[0m\u001b[0;34m)\u001b[0m\u001b[0;34m)\u001b[0m\u001b[0;34m\u001b[0m\u001b[0;34m\u001b[0m\u001b[0m\n",
      "\u001b[0;31mNameError\u001b[0m: name 'charges_tot_abs' is not defined"
     ]
    }
   ],
   "source": [
    "# Billing: Expense, with parens, all negative\n",
    "int_billing = all_data[all_data[\"Character Code\"].str.startswith(\"58\")]\n",
    "# Charges: Also expense, sometimes has parens, mostly positive but a few negative\n",
    "int_charges = all_data[all_data[\"Character Code\"].str.startswith(\"57\")]\n",
    "charges_tot = int_charges[\"2018\"].sum()\n",
    "charges_tot = int_charges[\"2018\"].abs().sum()\n",
    "print(\"Net charges: \" + str(charges_tot) + \" Total charges: \" +  str(charges_tot_abs))\n",
    "billing_tot = int_billing[\"2018\"].abs().sum()\n",
    "print(int_billing[\"2018\"].abs().sum())\n",
    "df = Series({\"Billing\":int_billing[\"2018\"].abs().sum()/1000000, \"Charges\":int_charges[\"2018\"].abs().sum()/1000000})\n",
    "ax = df.plot.bar(figsize = (10, 10))\n",
    "ax.set_ylabel(\"Expense in Millions of Dollars\")\n",
    "ax.set_xlabel(\"\")\n",
    "ax.set_title(\"Total Interdepartmental Billing and Charges\")\n",
    "\n",
    "\n"
   ]
  },
  {
   "cell_type": "code",
   "execution_count": 3,
   "metadata": {},
   "outputs": [
    {
     "data": {
      "text/plain": [
       "3047656.06"
      ]
     },
     "execution_count": 3,
     "metadata": {},
     "output_type": "execute_result"
    }
   ],
   "source": [
    "int_billing[\"2018\"].abs().sum()"
   ]
  },
  {
   "cell_type": "code",
   "execution_count": 4,
   "metadata": {
    "scrolled": true
   },
   "outputs": [
    {
     "name": "stdout",
     "output_type": "stream",
     "text": [
      "['LIBRARY' 'PARKS' 'STREETS' 'PLANNING' 'MUNICIPAL COURT' 'FIRE'\n",
      " 'ENGINEERING' 'UNDEFINED' 'POLICE' 'TRAFFIC ENGINEE' 'HUMAN RESOURCES'\n",
      " 'INFORMATION TEC' 'MAYOR' 'COMMUNITY DEVEL' 'BUILDING INSPEC' 'ATTORNEY'\n",
      " 'FINANCE' 'COMMON COUNCIL' 'ECONOMIC DEVELO' 'CLERK' 'TREASURER'\n",
      " 'PCED OFFICE OF ' 'ASSESSOR' 'CIVIL RIGHTS' 'TRANSPORTATION'\n",
      " 'EMPLOYEE ASSIST' 'CITY WIDE MISCE']\n"
     ]
    }
   ],
   "source": [
    "# Creates list of agencies\n",
    "agencies = all_data[\"Agency\"].str[6:21].unique()\n",
    "print(agencies)"
   ]
  },
  {
   "cell_type": "code",
   "execution_count": 5,
   "metadata": {
    "scrolled": true
   },
   "outputs": [
    {
     "name": "stdout",
     "output_type": "stream",
     "text": [
      "Agency   Object              \n",
      "Streets  From Fleet Services     7331039.25\n",
      "Fire     From Fleet Services     2627818.02\n",
      "Police   From Fleet Services     2407865.01\n",
      "Parks    From Fleet Services     1885951.60\n",
      "Police   From Insurance           998518.00\n",
      "Fire     From Workers Comp        859647.00\n",
      "Police   From Workers Comp        835092.00\n",
      "         From Engineering         611303.00\n",
      "Streets  From Workers Comp        398717.00\n",
      "Other    From Engineering         388705.07\n",
      "         From Fleet Services      310283.72\n",
      "         From Insurance           281298.00\n",
      "Fire     From Engineering         278163.00\n",
      "Police   From Traffic Enginee     273847.41\n",
      "Parks    From Workers Comp        273306.00\n",
      "Other    From Workers Comp        272793.00\n",
      "Parks    From Insurance           176555.00\n",
      "Fire     From Traffic Enginee     120575.71\n",
      "Streets  From Insurance           115286.00\n",
      "Fire     From Insurance           101277.00\n",
      "Other    From Community Devel      90000.00\n",
      "Streets  From Engineering          55152.00\n",
      "         From Traffic Enginee      33274.00\n",
      "Parks    From Traffic Enginee      29230.54\n",
      "Other    From Information Tec      23940.00\n",
      "Parks    From Engineering          14111.00\n",
      "Other    From Traffic Enginee       8748.76\n",
      "Name: 2018, dtype: float64\n"
     ]
    },
    {
     "name": "stderr",
     "output_type": "stream",
     "text": [
      "/usr/local/lib/python3.6/dist-packages/ipykernel_launcher.py:22: FutureWarning: The signature of `Series.to_csv` was aligned to that of `DataFrame.to_csv`, and argument 'header' will change its default value from False to True: please pass an explicit value to suppress this warning.\n"
     ]
    }
   ],
   "source": [
    "# All data\n",
    "charges_multilevel = int_charges.copy()\n",
    "charges_multilevel[\"Agency\"] = charges_multilevel[\"Agency\"].str[6:]\n",
    "charges_multilevel[\"Object\"] = charges_multilevel[\"Object\"].str[18:]\n",
    "\n",
    "charges_multilevel = charges_multilevel.groupby([\"Agency\", \"Object\"]).sum().abs()[\"2018\"]\n",
    "charges_multilevel = charges_multilevel[charges_multilevel != 0]\n",
    "\n",
    "top_agencies = charges_multilevel.copy()\n",
    "top_agencies = top_agencies.filter(regex='FIRE|POLICE|PARKS|STREETS', axis=0)\n",
    "\n",
    "other = charges_multilevel.copy()\n",
    "other = other.filter(regex = '^((?!(FIRE|STREETS|POLICE|PARKS)).)*$', axis = 0)\n",
    "other = other.rename(lambda s:\"Other\", level=0 ).groupby([\"Agency\", \"Object\"]).sum()\n",
    "\n",
    "result = other.append(top_agencies)\n",
    "result = result.rename(lambda s:s.title())\n",
    "result = result.sort_values(ascending = False)\n",
    "#charges_multilevel = charges_multilevel[charges_multilevel >= 150000]\n",
    "print(result)\n",
    "\n",
    "result.to_csv(\"~/data2.csv\")\n",
    "\n",
    "\n",
    "#print(charges_multilevel)\n",
    "#objects = billing.groupby([column2])[\"2018\"].sum().abs().sort_values(ascending=False).head(10)"
   ]
  },
  {
   "cell_type": "code",
   "execution_count": null,
   "metadata": {
    "scrolled": true
   },
   "outputs": [],
   "source": [
    "# data between agencies for charges\n",
    "charge = int_charges.copy()\n",
    "charge[\"Agency\"] = charge[\"Agency\"].str[6:21]\n",
    "charge[\"Object\"] = charge[\"Object\"].str[23:]\n",
    "\n",
    "charge = charge[charge[\"Object\"].isin(agencies)]\n",
    "\n",
    "charge = charge.groupby([\"Agency\", \"Object\"]).sum()[\"2018\"]\n",
    "charge = charge[charge != 0]\n",
    "\n",
    "charge = charge.rename(lambda s:s.title())\n",
    "\n",
    "#print(charge)\n",
    "\n",
    "# Data between agencies for billing\n",
    "bill = int_billing.copy()\n",
    "bill[\"Agency\"] = bill[\"Agency\"].str[6:21]\n",
    "bill[\"Object\"] = bill[\"Object\"].str[22:]\n",
    "\n",
    "\n",
    "bill = bill[bill[\"Object\"].isin(agencies)]\n",
    "\n",
    "bill = bill.groupby([\"Agency\", \"Object\"]).sum()[\"2018\"]\n",
    "bill = bill[bill != 0]\n",
    "\n",
    "bill = bill.rename(lambda s:s.title())\n",
    "\n",
    "print(bill)\n",
    "print(charge)\n",
    "\n",
    "bill.abs().to_csv(\"~/Projects/DataAnalysis/billing_agency_only.csv\")\n",
    "\n",
    "charge.abs().to_csv(\"~/Projects/DataAnalysis/charges_agency_only.csv\")\n",
    "\n",
    "\n",
    "no_descrep = 0\n",
    "for i in charge.items():\n",
    "    agency = i[0][0]\n",
    "    obj = i[0][1]\n",
    "    ag1 = charge[agency][obj]\n",
    "    try:\n",
    "        ag2 = bill[obj][agency]\n",
    "    except:\n",
    "        ag2 = 0\n",
    "    dif = (int)(ag1 + ag2)\n",
    "    if (dif != 0):\n",
    "        print(agency + \" => \"   + obj)\n",
    "        print(\"\\tCharge: $\" + str(int(ag1))+ \" Billing: $\" + str(int(ag2)))\n",
    "        print(\"\\tDiscrepancy $\" + str(dif) + \" \\n\")\n",
    "    else: \n",
    "        no_descrep += 1\n",
    "print(\"Combinations without discrepancies: \" + str(no_descrep))"
   ]
  },
  {
   "cell_type": "code",
   "execution_count": null,
   "metadata": {
    "scrolled": true
   },
   "outputs": [],
   "source": [
    "charge = int_charges.copy()\n",
    "charge[\"Agency\"] = charge[\"Agency\"].str[6:21]\n",
    "charge[\"Object\"] = charge[\"Object\"].str[23:]\n",
    "charge = charge[charge[\"Object\"].str.contains(\"TRAFFIC\") ]\n",
    "charge = charge[charge[\"2018\"] != 0]\n",
    "\n",
    "# Data between agencies for billing\n",
    "bill = int_billing.copy()\n",
    "bill[\"Agency\"] = bill[\"Agency\"].str[6:21]\n",
    "bill[\"Object\"] = bill[\"Object\"].str[22:]\n",
    "bill = bill[bill[\"Agency\"].str.contains(\"TRAFFIC\")]\n",
    "bill = bill[bill[\"2018\"] != 0]\n",
    "\n",
    "print(bill.sort_values(ascending = False, by = \"2018\")[[\"Agency\", \"Object\", \"2018\"]])\n",
    "print(charge.sort_values(by = \"2018\")[[\"Agency\", \"Object\", \"2018\"]])\n"
   ]
  },
  {
   "cell_type": "code",
   "execution_count": null,
   "metadata": {
    "scrolled": true
   },
   "outputs": [],
   "source": [
    "\n",
    "for i in bill.itertuples():\n",
    "    # 9 is for 2018\n",
    "    # print(i[9])\n",
    "    found = False\n",
    "    for j in charge.itertuples(): \n",
    "        if(i[9] == j[9]):\n",
    "            found = True\n",
    "    if(found):\n",
    "        print(i[9])\n",
    "\n"
   ]
  },
  {
   "cell_type": "code",
   "execution_count": null,
   "metadata": {
    "scrolled": true
   },
   "outputs": [],
   "source": [
    "revenue_dataset = streets_dataset[streets_dataset[\"Account Type\"] == \"Revenue\"]\n",
    "expense_dataset = streets_dataset[streets_dataset[\"Account Type\"] == \"Expense\"]\n",
    "\n",
    "tot_revenue = revenue_dataset[\"2018\"].abs().sum() / 10 **6\n",
    "tot_expense = expense_dataset[\"2018\"].abs().sum() / 10**6\n",
    "\n",
    "label_column = Series([\"Revenue\", \"Expenses\"])\n",
    "series_column = Series([tot_revenue, tot_expense])\n",
    "\n",
    "table = DataFrame({\"type\":label_column, \"Cost (in millions)\":series_column})\n",
    "ax = table.plot.bar(x = 'type', y = 'Cost (in millions)', legend = False)\n",
    "ax.set_xlabel(\"\")\n",
    "ax.set_ylabel(\"Cost in millions\")\n",
    "ax.set_title(\"Revenue and Expenses\")"
   ]
  },
  {
   "cell_type": "code",
   "execution_count": null,
   "metadata": {},
   "outputs": [],
   "source": [
    "expenses_by_type = expense_dataset.groupby([\"Character Code\"])\n",
    "expense_types = expenses_by_type[\"2018\"].sum()\n",
    "ax = expense_types.plot.pie(figsize = (6,6))\n",
    "ax.set_ylabel(\"\")\n",
    "ax.set_title(\"Expense Sources of Streets\")\n"
   ]
  },
  {
   "cell_type": "code",
   "execution_count": null,
   "metadata": {},
   "outputs": [],
   "source": [
    "interdep_billing = expense_dataset[expense_dataset[\"Character Code\"] == '58 - INTER DEPART BILLING']\n",
    "objects = interdep_billing.groupby([\"Object\"])[\"2015\"].sum().abs()\n",
    "#series1 = objects.tail(2)\n",
    "#other = objects.sum() - series1.sum()\n",
    "#series2 = Series([other], index=['Other'])\n",
    "\n",
    "#plot_data = pd.concat(objects)\n",
    "ax2 = objects.plot.pie(figsize=(6,6), autopct='%d%%')\n",
    "ax2.set_ylabel(\"\")\n",
    "ax2.set_title(\"Interdepartmental Billing for Streets\")"
   ]
  },
  {
   "cell_type": "code",
   "execution_count": null,
   "metadata": {},
   "outputs": [],
   "source": [
    "interdep_charges = expense_dataset[expense_dataset[\"Character Code\"] == '57 - INTER DEPART CHARGES']\n",
    "objects = interdep_charges.groupby([\"Object\"])[\"2018\"].sum().sort_values()\n",
    "\n",
    "series1 = objects.tail(2)\n",
    "other = objects.sum() - series1.sum()\n",
    "series2 = Series([other], index=['Other'])\n",
    "\n",
    "plot_data = pd.concat([series1, series2])\n",
    "ax3 = plot_data.plot.pie(figsize=(6,6), autopct='%d%%')\n",
    "ax3.set_ylabel(\"\")\n",
    "ax3.set_title(\"Interdepartmental Charges for Streets\")"
   ]
  },
  {
   "cell_type": "code",
   "execution_count": null,
   "metadata": {},
   "outputs": [],
   "source": [
    "revenue_types = revenue_dataset.groupby([\"Character Code\"])[\"2018\"].sum().abs()\n",
    "ax = revenue_types.plot.pie()\n",
    "ax.set_ylabel(\"\")\n",
    "ax.set_title(\"Revenue Sources\")"
   ]
  },
  {
   "cell_type": "code",
   "execution_count": null,
   "metadata": {},
   "outputs": [],
   "source": [
    "total_revenue_all_years = Series([revenue_dataset[\"2015\"].sum(), revenue_dataset[\"2016\"].sum(), revenue_dataset[\"2017\"].sum(), revenue_dataset[\"2018\"].sum()]).abs() / 10**6\n",
    "df = DataFrame({\"Year\": Series([2015, 2016, 2017, 2018]), \"Revenue (millions)\": total_revenue_all_years})\n",
    "ax = df.plot.line(x=\"Year\", y= \"Revenue (millions)\",ylim=[0, total_revenue_all_years.max() * 1.5], legend=False, figsize = (12, 6))\n",
    "ax.set_ylabel(\"Millions of dollars\")\n",
    "ax.set_title(\"Revenue over time\")\n",
    "ax.set_xticks([2015, 2016, 2017, 2018])"
   ]
  },
  {
   "cell_type": "code",
   "execution_count": null,
   "metadata": {},
   "outputs": [],
   "source": [
    "total_expenses_all_years = Series([expense_dataset[\"2015\"].sum(), expense_dataset[\"2016\"].sum(), expense_dataset[\"2017\"].sum(), expense_dataset[\"2018\"].sum()]).abs() / 10**6\n",
    "df = DataFrame({\"Year\": Series([2015, 2016, 2017, 2018]), \"Revenue (millions)\": total_expenses_all_years})\n",
    "ax = df.plot.line(x=\"Year\", y= \"Revenue (millions)\",ylim=[0, total_expenses_all_years.max() * 1.5], legend=False, figsize = (12,6))\n",
    "ax.set_ylabel(\"Millions of dollars\")\n",
    "ax.set_title(\"Expenses over time\")\n",
    "ax.set_xticks([2015, 2016, 2017, 2018])"
   ]
  },
  {
   "cell_type": "code",
   "execution_count": null,
   "metadata": {},
   "outputs": [],
   "source": [
    "objects = int_billing.groupby([\"Object\"])[\"2018\"].sum().abs().sort_values(ascending = False)/1000\n",
    "objects = objects.rename(lambda s:s[19:] )\n",
    "ax2 = objects.plot.bar(figsize=(10,6))\n",
    "ax2.set_ylabel(\"Expense in Thousands of Dollars\")\n",
    "ax2.set_xlabel(\"Object\")\n",
    "ax2.set_title(\"Interdepartmental Billing by Object\")"
   ]
  },
  {
   "cell_type": "code",
   "execution_count": null,
   "metadata": {},
   "outputs": [],
   "source": [
    "objects = int_charges.groupby([\"Object\"])[\"2018\"].sum().abs().sort_values(ascending=False).head(5)\n",
    "# Todo: add misc.\n",
    "objects = objects.rename(lambda s:s[17:] )\n",
    "\n",
    "ax2 = objects.plot.pie(figsize=(6,6), autopct='%d%%')\n",
    "ax2.set_ylabel(\"\")\n",
    "ax2.set_title(\"Interdepartmental Charges by Object\")"
   ]
  },
  {
   "cell_type": "code",
   "execution_count": null,
   "metadata": {
    "scrolled": false
   },
   "outputs": [],
   "source": [
    "# Agencies that have the most interdepartmental billing\n",
    "objects = int_billing.groupby([\"Agency\"])[\"2018\"].sum().abs().sort_values(ascending=False)\n",
    "# Todo: add misc.\n",
    "objects = objects.rename(lambda s:s[5:] )\n",
    "\n",
    "ax2 = objects.plot.pie(figsize=(6,6), autopct='%d%%')\n",
    "ax2.set_ylabel(\"\")\n",
    "ax2.set_title(\"Interdepartmental Billing by Agency\")"
   ]
  },
  {
   "cell_type": "code",
   "execution_count": null,
   "metadata": {
    "scrolled": false
   },
   "outputs": [],
   "source": [
    "# Agencies that have the most interdepartmental charges\n",
    "objects = int_charges.groupby([\"Agency\"])[\"2018\"].sum().abs().sort_values(ascending=False).head(6)\n",
    "# Todo: add misc.\n",
    "objects = objects.rename(lambda s:s[5:] )\n",
    "\n",
    "ax2 = objects.plot.pie(figsize=(6,6), autopct='%d%%')\n",
    "ax2.set_ylabel(\"\")\n",
    "ax2.set_title(\"Interdepartmental Charges by Agency\")"
   ]
  },
  {
   "cell_type": "code",
   "execution_count": null,
   "metadata": {},
   "outputs": [],
   "source": [
    "objects = int_billing.groupby([\"Organization\"])[\"2018\"].sum().abs().sort_values(ascending = False).head(8)/1000\n",
    "objects = objects.rename(lambda s:s[8:] )\n",
    "ax2 = objects.plot.bar(figsize=(6,6))\n",
    "ax2.set_ylabel(\"Millions of Dollars\")\n",
    "ax2.set_xlabel(\"Object\")\n",
    "ax2.set_title(\"Interdepartmental Billing by Org\")"
   ]
  },
  {
   "cell_type": "code",
   "execution_count": null,
   "metadata": {},
   "outputs": [],
   "source": [
    "objects = int_charges.groupby([\"Organization\"])[\"2018\"].sum().abs().sort_values(ascending = False).head(30)/1000000\n",
    "objects = objects.rename(lambda s:s[8:] )\n",
    "ax2 = objects.plot.bar(figsize=(12,6))\n",
    "ax2.set_ylabel(\"Millions of Dollars\")\n",
    "ax2.set_xlabel(\"Object\")\n",
    "ax2.set_title(\"Interdepartmental Charges by Org\")"
   ]
  },
  {
   "cell_type": "code",
   "execution_count": 7,
   "metadata": {},
   "outputs": [],
   "source": [
    "def graph_charges(column1, value, column2, trim=None):\n",
    "    # Isolates only data points in column1 matching \"value\",\n",
    "    # Then graphs them grouped by column2.\n",
    "    # Trims the first trim characters off of the labels\n",
    "    if(trim == None):\n",
    "        trim = 0\n",
    "    # obj is string\n",
    "    billing = int_charges[int_charges[column1].str.contains(value)]\n",
    "    objects = billing.groupby([column2])[\"2018\"].sum().abs().sort_values(ascending=False).head(10)\n",
    "    # Todo: add misc.\n",
    "    objects = objects.rename(lambda s:s[trim:] )\n",
    "\n",
    "    ax2 = objects.plot.pie(figsize=(6,6), autopct='%d%%')\n",
    "    ax2.set_ylabel(\"\")\n",
    "    ax2.set_title(\"Charges in \" + column1.lower() + \" \" + value.lower() + \" by \" + column2.lower())\n",
    "    return ax2\n"
   ]
  },
  {
   "cell_type": "code",
   "execution_count": null,
   "metadata": {},
   "outputs": [],
   "source": [
    "def graph_billing(column, org, column2, trim=None):\n",
    "    if trim == None:\n",
    "        trim = 0\n",
    "    # obj is string\n",
    "    billing = int_billing[int_billing[column].str.contains(org)]\n",
    "    objects = billing.groupby([column2])[\"2018\"].sum().abs().sort_values(ascending=False).head(10)\n",
    "    # Todo: add misc.\n",
    "    objects = objects.rename(lambda s:s[trim:] )\n",
    "\n",
    "    ax2 = objects.plot.pie(figsize=(6,6), autopct='%d%%')\n",
    "    ax2.set_ylabel(\"\")\n",
    "    ax2.set_title(\"Billing in \" + column.lower() + \" \" + org.lower() + \" by \" + column2.lower() )\n",
    "    return ax2\n"
   ]
  },
  {
   "cell_type": "code",
   "execution_count": null,
   "metadata": {},
   "outputs": [],
   "source": [
    "#1 \n",
    "graph_billing(\"Agency\", \"40 -  ENGINEERING\", \"Object\", 18)"
   ]
  },
  {
   "cell_type": "code",
   "execution_count": null,
   "metadata": {},
   "outputs": [],
   "source": [
    "#1 \n",
    "graph_billing(\"Agency\", \"40 -  ENGINEERING\", \"Organization\", 7)"
   ]
  },
  {
   "cell_type": "code",
   "execution_count": null,
   "metadata": {},
   "outputs": [],
   "source": [
    "#2\n",
    "graph_billing(\"Agency\", \"TRAFFIC ENGINEERING\", \"Object\", 18)"
   ]
  },
  {
   "cell_type": "code",
   "execution_count": null,
   "metadata": {},
   "outputs": [],
   "source": [
    "#2\n",
    "graph_billing(\"Agency\", \"TRAFFIC ENGINEERING\", \"Organization\", 7)"
   ]
  },
  {
   "cell_type": "code",
   "execution_count": null,
   "metadata": {},
   "outputs": [],
   "source": [
    "#3\n",
    "graph_billing(\"Agency\", \"INFORMATION TECHNOLOGY\", \"Object\")"
   ]
  },
  {
   "cell_type": "code",
   "execution_count": null,
   "metadata": {},
   "outputs": [],
   "source": [
    "#3\n",
    "graph_billing(\"Agency\", \"INFORMATION TECHNOLOGY\", \"Organization\", 7)"
   ]
  },
  {
   "cell_type": "code",
   "execution_count": null,
   "metadata": {},
   "outputs": [],
   "source": [
    "graph_charges(\"Agency\",\"STREETS\", \"Object\", 18)"
   ]
  },
  {
   "cell_type": "code",
   "execution_count": null,
   "metadata": {},
   "outputs": [],
   "source": [
    "graph_charges(\"Agency\",\"STREETS\", \"Organization\", 7)"
   ]
  },
  {
   "cell_type": "code",
   "execution_count": null,
   "metadata": {},
   "outputs": [],
   "source": [
    "graph_charges(\"Agency\",\"POLICE\", \"Object\", 18)"
   ]
  },
  {
   "cell_type": "code",
   "execution_count": null,
   "metadata": {},
   "outputs": [],
   "source": [
    "graph_charges(\"Agency\",\"POLICE\", \"Organization\", 7)"
   ]
  },
  {
   "cell_type": "code",
   "execution_count": null,
   "metadata": {},
   "outputs": [],
   "source": [
    "graph_charges(\"Agency\",\"FIRE\", \"Object\", 18)"
   ]
  },
  {
   "cell_type": "code",
   "execution_count": null,
   "metadata": {},
   "outputs": [],
   "source": [
    "graph_charges(\"Agency\",\"FIRE\", \"Organization\", 7)"
   ]
  },
  {
   "cell_type": "code",
   "execution_count": null,
   "metadata": {
    "scrolled": false
   },
   "outputs": [],
   "source": [
    "graph_billing(\"Object\", \"FLEET SERVICES\", \"Agency\", 5)"
   ]
  },
  {
   "cell_type": "code",
   "execution_count": null,
   "metadata": {
    "scrolled": false
   },
   "outputs": [],
   "source": [
    "graph_charges(\"Object\", \"FLEET SERVICES\", \"Agency\", 5)"
   ]
  }
 ],
 "metadata": {
  "kernelspec": {
   "display_name": "Python 3",
   "language": "python",
   "name": "python3"
  },
  "language_info": {
   "codemirror_mode": {
    "name": "ipython",
    "version": 3
   },
   "file_extension": ".py",
   "mimetype": "text/x-python",
   "name": "python",
   "nbconvert_exporter": "python",
   "pygments_lexer": "ipython3",
   "version": "3.6.7"
  }
 },
 "nbformat": 4,
 "nbformat_minor": 2
}
